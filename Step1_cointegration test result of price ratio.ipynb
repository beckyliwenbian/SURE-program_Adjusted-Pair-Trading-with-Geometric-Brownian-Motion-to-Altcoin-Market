{
 "cells": [
  {
   "cell_type": "code",
   "execution_count": 1,
   "metadata": {},
   "outputs": [
    {
     "name": "stdout",
     "output_type": "stream",
     "text": [
      "Requirement already satisfied: pandas-datareader in /Users/beckybian/opt/anaconda3/lib/python3.7/site-packages (0.10.0)\n",
      "Requirement already satisfied: requests>=2.19.0 in /Users/beckybian/opt/anaconda3/lib/python3.7/site-packages (from pandas-datareader) (2.27.1)\n",
      "Requirement already satisfied: lxml in /Users/beckybian/opt/anaconda3/lib/python3.7/site-packages (from pandas-datareader) (4.8.0)\n",
      "Requirement already satisfied: pandas>=0.23 in /Users/beckybian/opt/anaconda3/lib/python3.7/site-packages (from pandas-datareader) (1.3.5)\n",
      "Requirement already satisfied: charset-normalizer~=2.0.0; python_version >= \"3\" in /Users/beckybian/opt/anaconda3/lib/python3.7/site-packages (from requests>=2.19.0->pandas-datareader) (2.0.12)\n",
      "Requirement already satisfied: idna<4,>=2.5; python_version >= \"3\" in /Users/beckybian/opt/anaconda3/lib/python3.7/site-packages (from requests>=2.19.0->pandas-datareader) (2.8)\n",
      "Requirement already satisfied: certifi>=2017.4.17 in /Users/beckybian/opt/anaconda3/lib/python3.7/site-packages (from requests>=2.19.0->pandas-datareader) (2022.9.14)\n",
      "Requirement already satisfied: urllib3<1.27,>=1.21.1 in /Users/beckybian/opt/anaconda3/lib/python3.7/site-packages (from requests>=2.19.0->pandas-datareader) (1.25.8)\n",
      "Requirement already satisfied: python-dateutil>=2.7.3 in /Users/beckybian/opt/anaconda3/lib/python3.7/site-packages (from pandas>=0.23->pandas-datareader) (2.8.1)\n",
      "Requirement already satisfied: pytz>=2017.3 in /Users/beckybian/opt/anaconda3/lib/python3.7/site-packages (from pandas>=0.23->pandas-datareader) (2019.3)\n",
      "Requirement already satisfied: numpy>=1.17.3; platform_machine != \"aarch64\" and platform_machine != \"arm64\" and python_version < \"3.10\" in /Users/beckybian/opt/anaconda3/lib/python3.7/site-packages (from pandas>=0.23->pandas-datareader) (1.21.4)\n",
      "Requirement already satisfied: six>=1.5 in /Users/beckybian/opt/anaconda3/lib/python3.7/site-packages (from python-dateutil>=2.7.3->pandas>=0.23->pandas-datareader) (1.14.0)\n"
     ]
    }
   ],
   "source": [
    "# prepare for data reading from yahoo finance\n",
    "!pip install pandas-datareader\n",
    "import pandas_datareader as web"
   ]
  },
  {
   "cell_type": "code",
   "execution_count": 2,
   "metadata": {},
   "outputs": [],
   "source": [
    "# import pandas_datareader.data as web\n",
    "import datetime\n",
    "import pandas as pd \n",
    "import numpy as np\n",
    "pd.set_option('display.max_columns', None)\n",
    "pd.set_option('display.max_rows', None)"
   ]
  },
  {
   "cell_type": "code",
   "execution_count": 3,
   "metadata": {},
   "outputs": [],
   "source": [
    "# a function to read a single stock\n",
    "def get_stock(ticker):\n",
    "    data = web.DataReader(f\"{ticker}\",\"yahoo\",start,end)\n",
    "    data[f'{ticker}'] = data[\"Adj Close\"]\n",
    "    data = data[[f'{ticker}']] \n",
    "    print(data.head())\n",
    "    return data "
   ]
  },
  {
   "cell_type": "code",
   "execution_count": 4,
   "metadata": {},
   "outputs": [],
   "source": [
    "# a function to read a single stock\n",
    "def get_stock(ticker,start,end):\n",
    "    data = web.DataReader(f\"{ticker}\",\"yahoo\",start,end)\n",
    "    data[f'{ticker}'] = data[\"Adj Close\"]\n",
    "    data = data[[f'{ticker}']] \n",
    "    print(data.head())\n",
    "    return data \n",
    "\n",
    "import functools as ft\n",
    "# from functools import reduce\n",
    "\n",
    "# a function to read different stocks and combine them into a single table\n",
    "def combine_stocks(tickers,start,end):\n",
    "    data_frames = []\n",
    "    for i in tickers:\n",
    "        data_frames.append(get_stock(i,start,end))\n",
    "        \n",
    "    df_merged = ft.reduce(lambda  left,right: pd.merge(left,right,on=['Date'], how='outer'), data_frames)\n",
    "    print(df_merged.head())\n",
    "    return df_merged\n",
    "\n",
    "\n"
   ]
  },
  {
   "cell_type": "code",
   "execution_count": 5,
   "metadata": {},
   "outputs": [],
   "source": [
    "# design the function for cointegration test\n",
    "import statsmodels.tsa.stattools as ts\n",
    "def cointegrated_pairs(data):\n",
    "    n =  (len(data.columns) -1)\n",
    "    stocks = data.iloc[:,1:].columns.values #pulls all stock names \n",
    "    data = data.to_numpy()\n",
    "    pvalue_matrix = np.zeros((n,n),dtype = float)\n",
    "    pairs = np.empty((n*n,2),dtype=object)\n",
    "    m = 0\n",
    "    #loop through all possilbe combintions of stocks ie 3!=6\n",
    "    for i in range(0,n):\n",
    "        for j in range(0,n):\n",
    "            S1 = data[:,i+1]\n",
    "            S2 = data[:,j+1]\n",
    "            result = ts.coint(S1,S2)\n",
    "            pvalue_matrix[i,j] = result[1]\n",
    "            #storing all paris in matrix form\n",
    "            if (result[1] < 0.05) & (i!=j):\n",
    "                pairs[m,0] = stocks[i]\n",
    "                pairs[m,1] = stocks[j] \n",
    "                m = m +1\n",
    "    return pvalue_matrix,  pairs\n",
    "# an extra function to find cointegrated pairs through this time frame\n",
    "def find_cointegrated_pairs(data):\n",
    "    n = data.shape[1]\n",
    "    score_matrix = np.zeros((n, n))\n",
    "    pvalue_matrix = np.ones((n, n))\n",
    "    keys = data.keys()\n",
    "    pairs = []\n",
    "    for i in range(n):\n",
    "        for j in range(i+1, n):\n",
    "            S1 = data[keys[i]]\n",
    "            S2 = data[keys[j]]\n",
    "            result = ts.coint(S1, S2)\n",
    "            score = result[0]\n",
    "            pvalue = result[1]\n",
    "            score_matrix[i, j] = score\n",
    "            pvalue_matrix[i, j] = pvalue\n",
    "            if pvalue < 0.05:\n",
    "                pairs.append((keys[i], keys[j]))\n",
    "    return score_matrix, pvalue_matrix, pairs"
   ]
  },
  {
   "cell_type": "markdown",
   "metadata": {},
   "source": [
    "# 2022"
   ]
  },
  {
   "cell_type": "code",
   "execution_count": 6,
   "metadata": {},
   "outputs": [],
   "source": [
    "# we plan to evaluate the five-month data \n",
    "start = datetime.datetime(2022,1,1)\n",
    "end = datetime.datetime(2022,6,1)"
   ]
  },
  {
   "cell_type": "code",
   "execution_count": 7,
   "metadata": {},
   "outputs": [
    {
     "name": "stdout",
     "output_type": "stream",
     "text": [
      "               BNB-USD\n",
      "Date                  \n",
      "2022-01-01  527.352722\n",
      "2022-01-02  531.396667\n",
      "2022-01-03  512.135986\n",
      "2022-01-04  507.506104\n",
      "2022-01-05  475.056946\n",
      "             ADA-USD\n",
      "Date                \n",
      "2022-01-01  1.376975\n",
      "2022-01-02  1.377584\n",
      "2022-01-03  1.321637\n",
      "2022-01-04  1.311658\n",
      "2022-01-05  1.236002\n",
      "                ETH-USD\n",
      "Date                   \n",
      "2022-01-01  3769.697021\n",
      "2022-01-02  3829.564941\n",
      "2022-01-03  3761.380371\n",
      "2022-01-04  3794.056641\n",
      "2022-01-05  3550.386963\n",
      "               LTC-USD\n",
      "Date                  \n",
      "2022-01-01  150.697433\n",
      "2022-01-02  151.255493\n",
      "2022-01-03  148.461594\n",
      "2022-01-04  146.812286\n",
      "2022-01-05  136.089111\n",
      "               BCH-USD\n",
      "Date                  \n",
      "2022-01-01  444.456177\n",
      "2022-01-02  447.832642\n",
      "2022-01-03  434.943848\n",
      "2022-01-04  427.524323\n",
      "2022-01-05  401.572510\n",
      "               SOL-USD\n",
      "Date                  \n",
      "2022-01-01  178.517944\n",
      "2022-01-02  176.382843\n",
      "2022-01-03  170.297745\n",
      "2022-01-04  167.938904\n",
      "2022-01-05  155.099731\n",
      "            DOGE-USD\n",
      "Date                \n",
      "2022-01-01  0.173035\n",
      "2022-01-02  0.174403\n",
      "2022-01-03  0.170088\n",
      "2022-01-04  0.168803\n",
      "2022-01-05  0.159420\n",
      "            USDT-USD\n",
      "Date                \n",
      "2022-01-01  1.000500\n",
      "2022-01-02  1.000460\n",
      "2022-01-03  1.000165\n",
      "2022-01-04  1.000208\n",
      "2022-01-05  1.000122\n",
      "            MATIC-USD\n",
      "Date                 \n",
      "2022-01-01   2.574791\n",
      "2022-01-02   2.549190\n",
      "2022-01-03   2.432652\n",
      "2022-01-04   2.367248\n",
      "2022-01-05   2.195475\n",
      "               XMR-USD\n",
      "Date                  \n",
      "2022-01-01  250.206177\n",
      "2022-01-02  239.371704\n",
      "2022-01-03  231.547546\n",
      "2022-01-04  222.344452\n",
      "2022-01-05  207.300217\n",
      "               BNB-USD   ADA-USD      ETH-USD     LTC-USD     BCH-USD  \\\n",
      "Date                                                                    \n",
      "2022-01-01  527.352722  1.376975  3769.697021  150.697433  444.456177   \n",
      "2022-01-02  531.396667  1.377584  3829.564941  151.255493  447.832642   \n",
      "2022-01-03  512.135986  1.321637  3761.380371  148.461594  434.943848   \n",
      "2022-01-04  507.506104  1.311658  3794.056641  146.812286  427.524323   \n",
      "2022-01-05  475.056946  1.236002  3550.386963  136.089111  401.572510   \n",
      "\n",
      "               SOL-USD  DOGE-USD  USDT-USD  MATIC-USD     XMR-USD  \n",
      "Date                                                               \n",
      "2022-01-01  178.517944  0.173035  1.000500   2.574791  250.206177  \n",
      "2022-01-02  176.382843  0.174403  1.000460   2.549190  239.371704  \n",
      "2022-01-03  170.297745  0.170088  1.000165   2.432652  231.547546  \n",
      "2022-01-04  167.938904  0.168803  1.000208   2.367248  222.344452  \n",
      "2022-01-05  155.099731  0.159420  1.000122   2.195475  207.300217  \n"
     ]
    }
   ],
   "source": [
    "#pull data from yahoo finance during this time frame\n",
    "stocks = [\"BNB-USD\", \"ADA-USD\",\"ETH-USD\",\"LTC-USD\",\"BCH-USD\",\"SOL-USD\",\"DOGE-USD\",\"USDT-USD\",\"MATIC-USD\",\"XMR-USD\"]\n",
    "portfolio=combine_stocks(stocks,start,end)"
   ]
  },
  {
   "cell_type": "code",
   "execution_count": 8,
   "metadata": {},
   "outputs": [
    {
     "data": {
      "text/html": [
       "<div>\n",
       "<style scoped>\n",
       "    .dataframe tbody tr th:only-of-type {\n",
       "        vertical-align: middle;\n",
       "    }\n",
       "\n",
       "    .dataframe tbody tr th {\n",
       "        vertical-align: top;\n",
       "    }\n",
       "\n",
       "    .dataframe thead th {\n",
       "        text-align: right;\n",
       "    }\n",
       "</style>\n",
       "<table border=\"1\" class=\"dataframe\">\n",
       "  <thead>\n",
       "    <tr style=\"text-align: right;\">\n",
       "      <th></th>\n",
       "      <th>0</th>\n",
       "      <th>1</th>\n",
       "    </tr>\n",
       "  </thead>\n",
       "  <tbody>\n",
       "    <tr>\n",
       "      <th>0</th>\n",
       "      <td>BNB-USD</td>\n",
       "      <td>ADA-USD</td>\n",
       "    </tr>\n",
       "    <tr>\n",
       "      <th>1</th>\n",
       "      <td>BNB-USD</td>\n",
       "      <td>LTC-USD</td>\n",
       "    </tr>\n",
       "    <tr>\n",
       "      <th>2</th>\n",
       "      <td>BNB-USD</td>\n",
       "      <td>BCH-USD</td>\n",
       "    </tr>\n",
       "    <tr>\n",
       "      <th>3</th>\n",
       "      <td>BNB-USD</td>\n",
       "      <td>SOL-USD</td>\n",
       "    </tr>\n",
       "    <tr>\n",
       "      <th>4</th>\n",
       "      <td>BNB-USD</td>\n",
       "      <td>DOGE-USD</td>\n",
       "    </tr>\n",
       "    <tr>\n",
       "      <th>5</th>\n",
       "      <td>BNB-USD</td>\n",
       "      <td>USDT-USD</td>\n",
       "    </tr>\n",
       "    <tr>\n",
       "      <th>6</th>\n",
       "      <td>SOL-USD</td>\n",
       "      <td>DOGE-USD</td>\n",
       "    </tr>\n",
       "    <tr>\n",
       "      <th>7</th>\n",
       "      <td>USDT-USD</td>\n",
       "      <td>MATIC-USD</td>\n",
       "    </tr>\n",
       "  </tbody>\n",
       "</table>\n",
       "</div>"
      ],
      "text/plain": [
       "          0          1\n",
       "0   BNB-USD    ADA-USD\n",
       "1   BNB-USD    LTC-USD\n",
       "2   BNB-USD    BCH-USD\n",
       "3   BNB-USD    SOL-USD\n",
       "4   BNB-USD   DOGE-USD\n",
       "5   BNB-USD   USDT-USD\n",
       "6   SOL-USD   DOGE-USD\n",
       "7  USDT-USD  MATIC-USD"
      ]
     },
     "execution_count": 8,
     "metadata": {},
     "output_type": "execute_result"
    }
   ],
   "source": [
    "# finnd potentially cointegrated pairs in this dataset\n",
    "y=pd.DataFrame(find_cointegrated_pairs(portfolio)[2])\n",
    "y"
   ]
  },
  {
   "cell_type": "markdown",
   "metadata": {},
   "source": [
    "y=pd.DataFrame(cointegrated_pairs(portfolio)[1])\n",
    "y"
   ]
  },
  {
   "cell_type": "markdown",
   "metadata": {},
   "source": [
    "# SOL&DOGE"
   ]
  },
  {
   "cell_type": "code",
   "execution_count": 9,
   "metadata": {},
   "outputs": [
    {
     "name": "stdout",
     "output_type": "stream",
     "text": [
      "               SOL-USD\n",
      "Date                  \n",
      "2022-01-01  178.517944\n",
      "2022-01-02  176.382843\n",
      "2022-01-03  170.297745\n",
      "2022-01-04  167.938904\n",
      "2022-01-05  155.099731\n",
      "            DOGE-USD\n",
      "Date                \n",
      "2022-01-01  0.173035\n",
      "2022-01-02  0.174403\n",
      "2022-01-03  0.170088\n",
      "2022-01-04  0.168803\n",
      "2022-01-05  0.159420\n",
      "               SOL-USD  DOGE-USD\n",
      "Date                            \n",
      "2022-01-01  178.517944  0.173035\n",
      "2022-01-02  176.382843  0.174403\n",
      "2022-01-03  170.297745  0.170088\n",
      "2022-01-04  167.938904  0.168803\n",
      "2022-01-05  155.099731  0.159420\n"
     ]
    }
   ],
   "source": [
    "# test if SOL and DOGE can pass the cointegration test to be used with a pair trading strategy\n",
    "# call the function and generate a table with stock adjusted close prices\n",
    "# call the function and generate a table with stock adjusted close prices\n",
    "stocks2 = [\"SOL-USD\",\"DOGE-USD\"]\n",
    "portfolio2=combine_stocks(stocks2,start,end)"
   ]
  },
  {
   "cell_type": "markdown",
   "metadata": {},
   "source": [
    "test if the pair is cointegarted"
   ]
  },
  {
   "cell_type": "code",
   "execution_count": 10,
   "metadata": {},
   "outputs": [
    {
     "data": {
      "text/plain": [
       "(-4.056850479068237,\n",
       " 0.005948582159539861,\n",
       " array([-3.96994311, -3.37662334, -3.07247036]))"
      ]
     },
     "execution_count": 10,
     "metadata": {},
     "output_type": "execute_result"
    }
   ],
   "source": [
    "result = ts.coint(portfolio2['SOL-USD'],portfolio2['DOGE-USD'])\n",
    "result"
   ]
  },
  {
   "cell_type": "code",
   "execution_count": 11,
   "metadata": {},
   "outputs": [
    {
     "name": "stdout",
     "output_type": "stream",
     "text": [
      "correlation= 0.9224476942758115\n",
      "cointegration= (-4.056850479068237, 0.005948582159539861, array([-3.96994311, -3.37662334, -3.07247036]))\n"
     ]
    },
    {
     "data": {
      "text/plain": [
       "<matplotlib.axes._subplots.AxesSubplot at 0x7fbe0d6a3250>"
      ]
     },
     "execution_count": 11,
     "metadata": {},
     "output_type": "execute_result"
    },
    {
     "data": {
      "image/png": "[encoded data removed]",
      "text/plain": [
       "<Figure size 432x288 with 1 Axes>"
      ]
     },
     "metadata": {
      "needs_background": "light"
     },
     "output_type": "display_data"
    }
   ],
   "source": [
    "import matplotlib.pyplot as plt\n",
    "print('correlation=',portfolio2['SOL-USD'].corr(portfolio2['DOGE-USD']))\n",
    "print('cointegration=',ts.coint(portfolio2['SOL-USD'],portfolio2['DOGE-USD']))\n",
    "portfolio2[['SOL-USD','DOGE-USD']].copy().plot()"
   ]
  },
  {
   "cell_type": "markdown",
   "metadata": {},
   "source": [
    "test the stationary of price ratio as spread"
   ]
  },
  {
   "cell_type": "code",
   "execution_count": 12,
   "metadata": {},
   "outputs": [],
   "source": [
    "import numpy as np\n",
    "portfolio2['price ratio']=portfolio2['SOL-USD']/portfolio2['DOGE-USD']\n",
    "portfolio2['log price ratio']=np.log(portfolio2['SOL-USD'])/np.log(portfolio2['DOGE-USD'])"
   ]
  },
  {
   "cell_type": "code",
   "execution_count": 13,
   "metadata": {},
   "outputs": [
    {
     "name": "stdout",
     "output_type": "stream",
     "text": [
      "Critical Value =  -3.429060561996766\n",
      "{'1%': -3.474120870218417, '5%': -2.880749791423677, '10%': -2.5770126333102494}\n"
     ]
    },
    {
     "data": {
      "image/png": "[encoded data removed]",
      "text/plain": [
       "<Figure size 864x432 with 1 Axes>"
      ]
     },
     "metadata": {
      "needs_background": "light"
     },
     "output_type": "display_data"
    }
   ],
   "source": [
    "# run OLS regression\n",
    "import statsmodels.api as sm\n",
    "from statsmodels.tsa.stattools import adfuller\n",
    "model=sm.OLS(portfolio2['SOL-USD'], portfolio2['DOGE-USD']).fit()\n",
    "\n",
    "# calculate spread\n",
    "spread = portfolio2['SOL-USD'] - model.params[0] * portfolio2['DOGE-USD']\n",
    "\n",
    "# Plot the spread\n",
    "ax = spread.plot(figsize=(12, 6), title = \"Pair's Spread\")\n",
    "ax.set_ylabel(\"Spread\")\n",
    "ax.grid(True);\n",
    "\n",
    "# conduct Augmented Dickey-Fuller test\n",
    "adf = adfuller(spread, maxlag = 1)\n",
    "print('Critical Value = ', adf[0])\n",
    "\n",
    "# probablity critical values\n",
    "print(adf[4])\n",
    "\n",
    "portfolio2['spread']=spread"
   ]
  },
  {
   "cell_type": "code",
   "execution_count": 14,
   "metadata": {},
   "outputs": [],
   "source": [
    "# adf test\n",
    "from statsmodels.tsa.stattools import adfuller\n",
    "# adf test for all stock price\n",
    "stationp=pd.DataFrame(columns=portfolio2.columns)\n",
    "for column in portfolio2.columns:\n",
    "    dftest = adfuller(portfolio2[column],autolag='AIC')\n",
    "    dfoutput=pd.Series(dftest[0:4],index=['Test Statistic','p-value','#lags used','number of observations used'])\n",
    "    for key,value in dftest[4].items():\n",
    "        dfoutput['critical value (%s)'%key]= value\n",
    "    result=pd.DataFrame(dfoutput)\n",
    "    if result.iloc[1,0]<0.05:\n",
    "        stationp[column]=['stationary']\n",
    "    else:\n",
    "        stationp[column]=['not stationary']"
   ]
  },
  {
   "cell_type": "code",
   "execution_count": 15,
   "metadata": {},
   "outputs": [
    {
     "data": {
      "text/html": [
       "<div>\n",
       "<style scoped>\n",
       "    .dataframe tbody tr th:only-of-type {\n",
       "        vertical-align: middle;\n",
       "    }\n",
       "\n",
       "    .dataframe tbody tr th {\n",
       "        vertical-align: top;\n",
       "    }\n",
       "\n",
       "    .dataframe thead th {\n",
       "        text-align: right;\n",
       "    }\n",
       "</style>\n",
       "<table border=\"1\" class=\"dataframe\">\n",
       "  <thead>\n",
       "    <tr style=\"text-align: right;\">\n",
       "      <th></th>\n",
       "      <th>SOL-USD</th>\n",
       "      <th>DOGE-USD</th>\n",
       "      <th>price ratio</th>\n",
       "      <th>log price ratio</th>\n",
       "      <th>spread</th>\n",
       "    </tr>\n",
       "  </thead>\n",
       "  <tbody>\n",
       "    <tr>\n",
       "      <th>0</th>\n",
       "      <td>not stationary</td>\n",
       "      <td>not stationary</td>\n",
       "      <td>not stationary</td>\n",
       "      <td>not stationary</td>\n",
       "      <td>stationary</td>\n",
       "    </tr>\n",
       "  </tbody>\n",
       "</table>\n",
       "</div>"
      ],
      "text/plain": [
       "          SOL-USD        DOGE-USD     price ratio log price ratio      spread\n",
       "0  not stationary  not stationary  not stationary  not stationary  stationary"
      ]
     },
     "execution_count": 15,
     "metadata": {},
     "output_type": "execute_result"
    }
   ],
   "source": [
    "stationp"
   ]
  },
  {
   "cell_type": "raw",
   "metadata": {},
   "source": [
    "The pair does not pass the either the cointegration or stationarity test, hence not applicable for pair trading strategy."
   ]
  },
  {
   "cell_type": "code",
   "execution_count": 16,
   "metadata": {},
   "outputs": [
    {
     "data": {
      "text/plain": [
       "<matplotlib.axes._subplots.AxesSubplot at 0x7fbe0e57d7d0>"
      ]
     },
     "execution_count": 16,
     "metadata": {},
     "output_type": "execute_result"
    },
    {
     "data": {
      "image/png": "[encoded data removed]",
      "text/plain": [
       "<Figure size 432x288 with 1 Axes>"
      ]
     },
     "metadata": {
      "needs_background": "light"
     },
     "output_type": "display_data"
    }
   ],
   "source": [
    "# plot for stock price\n",
    "portfolio2['price ratio'].plot()"
   ]
  },
  {
   "cell_type": "markdown",
   "metadata": {},
   "source": [
    "# 2020-2022"
   ]
  },
  {
   "cell_type": "code",
   "execution_count": 17,
   "metadata": {},
   "outputs": [],
   "source": [
    "# we plan to evaluate the 2-year data \n",
    "start = datetime.datetime(2020,1,1)\n",
    "end = datetime.datetime(2022,1,1)"
   ]
  },
  {
   "cell_type": "code",
   "execution_count": 18,
   "metadata": {},
   "outputs": [
    {
     "name": "stdout",
     "output_type": "stream",
     "text": [
      "              BNB-USD\n",
      "Date                 \n",
      "2020-01-01  13.689083\n",
      "2020-01-02  13.027011\n",
      "2020-01-03  13.660452\n",
      "2020-01-04  13.891512\n",
      "2020-01-05  14.111019\n",
      "             ADA-USD\n",
      "Date                \n",
      "2020-01-01  0.033458\n",
      "2020-01-02  0.032751\n",
      "2020-01-03  0.034180\n",
      "2020-01-04  0.034595\n",
      "2020-01-05  0.034721\n",
      "               ETH-USD\n",
      "Date                  \n",
      "2020-01-01  130.802002\n",
      "2020-01-02  127.410179\n",
      "2020-01-03  134.171707\n",
      "2020-01-04  135.069366\n",
      "2020-01-05  136.276779\n",
      "              LTC-USD\n",
      "Date                 \n",
      "2020-01-01  42.017719\n",
      "2020-01-02  39.823013\n",
      "2020-01-03  42.415573\n",
      "2020-01-04  43.326607\n",
      "2020-01-05  43.553207\n",
      "               BCH-USD\n",
      "Date                  \n",
      "2020-01-01  204.397537\n",
      "2020-01-02  195.698563\n",
      "2020-01-03  222.412979\n",
      "2020-01-04  226.018692\n",
      "2020-01-05  224.096527\n",
      "            DOGE-USD\n",
      "Date                \n",
      "2020-01-01  0.002033\n",
      "2020-01-02  0.002009\n",
      "2020-01-03  0.002145\n",
      "2020-01-04  0.002241\n",
      "2020-01-05  0.002419\n",
      "            USDT-USD\n",
      "Date                \n",
      "2020-01-01  0.999836\n",
      "2020-01-02  1.001565\n",
      "2020-01-03  1.004192\n",
      "2020-01-04  1.007472\n",
      "2020-01-05  1.006197\n",
      "            MATIC-USD\n",
      "Date                 \n",
      "2020-01-01   0.014962\n",
      "2020-01-02   0.014651\n",
      "2020-01-03   0.015194\n",
      "2020-01-04   0.014961\n",
      "2020-01-05   0.014914\n",
      "              XMR-USD\n",
      "Date                 \n",
      "2020-01-01  45.753544\n",
      "2020-01-02  45.749470\n",
      "2020-01-03  51.092037\n",
      "2020-01-04  50.536694\n",
      "2020-01-05  54.096893\n",
      "              BNB-USD   ADA-USD     ETH-USD    LTC-USD     BCH-USD  DOGE-USD  \\\n",
      "Date                                                                           \n",
      "2020-01-01  13.689083  0.033458  130.802002  42.017719  204.397537  0.002033   \n",
      "2020-01-02  13.027011  0.032751  127.410179  39.823013  195.698563  0.002009   \n",
      "2020-01-03  13.660452  0.034180  134.171707  42.415573  222.412979  0.002145   \n",
      "2020-01-04  13.891512  0.034595  135.069366  43.326607  226.018692  0.002241   \n",
      "2020-01-05  14.111019  0.034721  136.276779  43.553207  224.096527  0.002419   \n",
      "\n",
      "            USDT-USD  MATIC-USD    XMR-USD  \n",
      "Date                                        \n",
      "2020-01-01  0.999836   0.014962  45.753544  \n",
      "2020-01-02  1.001565   0.014651  45.749470  \n",
      "2020-01-03  1.004192   0.015194  51.092037  \n",
      "2020-01-04  1.007472   0.014961  50.536694  \n",
      "2020-01-05  1.006197   0.014914  54.096893  \n"
     ]
    }
   ],
   "source": [
    "# pull the data from yahoo finance through this time frame\n",
    "stocks = [\"BNB-USD\", \"ADA-USD\",\"ETH-USD\",\"LTC-USD\",\"BCH-USD\",\"DOGE-USD\",\"USDT-USD\",\"MATIC-USD\",\"XMR-USD\"]\n",
    "portfolio=combine_stocks(stocks,start,end)"
   ]
  },
  {
   "cell_type": "code",
   "execution_count": 19,
   "metadata": {},
   "outputs": [
    {
     "data": {
      "text/html": [
       "<div>\n",
       "<style scoped>\n",
       "    .dataframe tbody tr th:only-of-type {\n",
       "        vertical-align: middle;\n",
       "    }\n",
       "\n",
       "    .dataframe tbody tr th {\n",
       "        vertical-align: top;\n",
       "    }\n",
       "\n",
       "    .dataframe thead th {\n",
       "        text-align: right;\n",
       "    }\n",
       "</style>\n",
       "<table border=\"1\" class=\"dataframe\">\n",
       "  <thead>\n",
       "    <tr style=\"text-align: right;\">\n",
       "      <th></th>\n",
       "      <th>0</th>\n",
       "      <th>1</th>\n",
       "    </tr>\n",
       "  </thead>\n",
       "  <tbody>\n",
       "    <tr>\n",
       "      <th>0</th>\n",
       "      <td>BNB-USD</td>\n",
       "      <td>MATIC-USD</td>\n",
       "    </tr>\n",
       "    <tr>\n",
       "      <th>1</th>\n",
       "      <td>ADA-USD</td>\n",
       "      <td>DOGE-USD</td>\n",
       "    </tr>\n",
       "    <tr>\n",
       "      <th>2</th>\n",
       "      <td>USDT-USD</td>\n",
       "      <td>MATIC-USD</td>\n",
       "    </tr>\n",
       "    <tr>\n",
       "      <th>3</th>\n",
       "      <td>USDT-USD</td>\n",
       "      <td>XMR-USD</td>\n",
       "    </tr>\n",
       "  </tbody>\n",
       "</table>\n",
       "</div>"
      ],
      "text/plain": [
       "          0          1\n",
       "0   BNB-USD  MATIC-USD\n",
       "1   ADA-USD   DOGE-USD\n",
       "2  USDT-USD  MATIC-USD\n",
       "3  USDT-USD    XMR-USD"
      ]
     },
     "execution_count": 19,
     "metadata": {},
     "output_type": "execute_result"
    }
   ],
   "source": [
    "# find potentially cointegrated pairs in this newly pulled dataset\n",
    "\n",
    "y=pd.DataFrame(find_cointegrated_pairs(portfolio)[2])\n",
    "y"
   ]
  },
  {
   "cell_type": "markdown",
   "metadata": {},
   "source": [
    "# BNB&MATIC"
   ]
  },
  {
   "cell_type": "code",
   "execution_count": 20,
   "metadata": {},
   "outputs": [
    {
     "name": "stdout",
     "output_type": "stream",
     "text": [
      "            MATIC-USD\n",
      "Date                 \n",
      "2020-01-01   0.014962\n",
      "2020-01-02   0.014651\n",
      "2020-01-03   0.015194\n",
      "2020-01-04   0.014961\n",
      "2020-01-05   0.014914\n",
      "              BNB-USD\n",
      "Date                 \n",
      "2020-01-01  13.689083\n",
      "2020-01-02  13.027011\n",
      "2020-01-03  13.660452\n",
      "2020-01-04  13.891512\n",
      "2020-01-05  14.111019\n",
      "            MATIC-USD    BNB-USD\n",
      "Date                            \n",
      "2020-01-01   0.014962  13.689083\n",
      "2020-01-02   0.014651  13.027011\n",
      "2020-01-03   0.015194  13.660452\n",
      "2020-01-04   0.014961  13.891512\n",
      "2020-01-05   0.014914  14.111019\n"
     ]
    }
   ],
   "source": [
    "# test if BNB and MATIC can pass the cointegration test to be used with a pair trading strategy\n",
    "# call the function and generate a table with stock adjusted close prices\n",
    "# call the function and generate a table with stock adjusted close prices\n",
    "stocks3 = [\"MATIC-USD\",\"BNB-USD\"]\n",
    "portfolio3=combine_stocks(stocks3,start,end)"
   ]
  },
  {
   "cell_type": "markdown",
   "metadata": {},
   "source": [
    "test if the pair is cointegrated"
   ]
  },
  {
   "cell_type": "code",
   "execution_count": 21,
   "metadata": {},
   "outputs": [
    {
     "data": {
      "text/plain": [
       "(-3.1337173062143986,\n",
       " 0.08172943152397238,\n",
       " array([-3.91146418, -3.34448986, -3.05024907]))"
      ]
     },
     "execution_count": 21,
     "metadata": {},
     "output_type": "execute_result"
    }
   ],
   "source": [
    "result = ts.coint(portfolio3['MATIC-USD'],portfolio3['BNB-USD'])\n",
    "result"
   ]
  },
  {
   "cell_type": "markdown",
   "metadata": {},
   "source": [
    "test the stationarity of price ratio"
   ]
  },
  {
   "cell_type": "code",
   "execution_count": 22,
   "metadata": {},
   "outputs": [],
   "source": [
    "import numpy as np\n",
    "portfolio3['log price ratio']=np.log(portfolio3['BNB-USD'])/np.log(portfolio3['MATIC-USD'])\n",
    "portfolio3['price ratio']=portfolio3['BNB-USD']/portfolio3['MATIC-USD']"
   ]
  },
  {
   "cell_type": "code",
   "execution_count": 23,
   "metadata": {},
   "outputs": [
    {
     "name": "stdout",
     "output_type": "stream",
     "text": [
      "Critical Value =  -1.7938277451764115\n",
      "{'1%': -3.439314999916068, '5%': -2.8654965012008677, '10%': -2.5688768817372867}\n"
     ]
    },
    {
     "data": {
      "image/png": "[encoded data removed]",
      "text/plain": [
       "<Figure size 864x432 with 1 Axes>"
      ]
     },
     "metadata": {
      "needs_background": "light"
     },
     "output_type": "display_data"
    }
   ],
   "source": [
    "# run OLS regression\n",
    "model=sm.OLS(portfolio3['MATIC-USD'], portfolio3['BNB-USD']).fit()\n",
    "\n",
    "# calculate spread\n",
    "spread = portfolio3['MATIC-USD'] - model.params[0] * portfolio3['BNB-USD']\n",
    "\n",
    "# Plot the spread\n",
    "ax = spread.plot(figsize=(12, 6), title = \"Pair's Spread\")\n",
    "ax.set_ylabel(\"Spread\")\n",
    "ax.grid(True);\n",
    "\n",
    "# conduct Augmented Dickey-Fuller test\n",
    "adf = adfuller(spread, maxlag = 1)\n",
    "print('Critical Value = ', adf[0])\n",
    "\n",
    "# probablity critical values\n",
    "print(adf[4])\n",
    "\n",
    "portfolio3['spread']=spread"
   ]
  },
  {
   "cell_type": "code",
   "execution_count": 24,
   "metadata": {},
   "outputs": [],
   "source": [
    "# adf test\n",
    "from statsmodels.tsa.stattools import adfuller\n",
    "# adf test for all stock price\n",
    "stationp=pd.DataFrame(columns=portfolio3.columns)\n",
    "for column in portfolio3.columns:\n",
    "    dftest = adfuller(portfolio3[column],autolag='AIC')\n",
    "    dfoutput=pd.Series(dftest[0:4],index=['Test Statistic','p-value','#lags used','number of observations used'])\n",
    "    for key,value in dftest[4].items():\n",
    "        dfoutput['critical value (%s)'%key]= value\n",
    "    result=pd.DataFrame(dfoutput)\n",
    "    if result.iloc[1,0]<0.05:\n",
    "        stationp[column]=['stationary']\n",
    "    else:\n",
    "        stationp[column]=['not stationary']"
   ]
  },
  {
   "cell_type": "code",
   "execution_count": 25,
   "metadata": {},
   "outputs": [
    {
     "data": {
      "text/html": [
       "<div>\n",
       "<style scoped>\n",
       "    .dataframe tbody tr th:only-of-type {\n",
       "        vertical-align: middle;\n",
       "    }\n",
       "\n",
       "    .dataframe tbody tr th {\n",
       "        vertical-align: top;\n",
       "    }\n",
       "\n",
       "    .dataframe thead th {\n",
       "        text-align: right;\n",
       "    }\n",
       "</style>\n",
       "<table border=\"1\" class=\"dataframe\">\n",
       "  <thead>\n",
       "    <tr style=\"text-align: right;\">\n",
       "      <th></th>\n",
       "      <th>MATIC-USD</th>\n",
       "      <th>BNB-USD</th>\n",
       "      <th>log price ratio</th>\n",
       "      <th>price ratio</th>\n",
       "      <th>spread</th>\n",
       "    </tr>\n",
       "  </thead>\n",
       "  <tbody>\n",
       "    <tr>\n",
       "      <th>0</th>\n",
       "      <td>not stationary</td>\n",
       "      <td>not stationary</td>\n",
       "      <td>stationary</td>\n",
       "      <td>not stationary</td>\n",
       "      <td>stationary</td>\n",
       "    </tr>\n",
       "  </tbody>\n",
       "</table>\n",
       "</div>"
      ],
      "text/plain": [
       "        MATIC-USD         BNB-USD log price ratio     price ratio      spread\n",
       "0  not stationary  not stationary      stationary  not stationary  stationary"
      ]
     },
     "execution_count": 25,
     "metadata": {},
     "output_type": "execute_result"
    }
   ],
   "source": [
    "stationp"
   ]
  },
  {
   "cell_type": "raw",
   "metadata": {},
   "source": [
    "This pair passes the cointegration test with its log price ratio stationary, applicable for a pair trading strategy later."
   ]
  },
  {
   "cell_type": "code",
   "execution_count": 26,
   "metadata": {},
   "outputs": [
    {
     "data": {
      "text/plain": [
       "<matplotlib.axes._subplots.AxesSubplot at 0x7fbe0ebf5e90>"
      ]
     },
     "execution_count": 26,
     "metadata": {},
     "output_type": "execute_result"
    },
    {
     "data": {
      "image/png": "[encoded data removed]",
      "text/plain": [
       "<Figure size 432x288 with 1 Axes>"
      ]
     },
     "metadata": {
      "needs_background": "light"
     },
     "output_type": "display_data"
    }
   ],
   "source": [
    "# plot for stock price\n",
    "portfolio3['log price ratio'].plot()"
   ]
  },
  {
   "cell_type": "markdown",
   "metadata": {},
   "source": [
    "# ADA&DOGE"
   ]
  },
  {
   "cell_type": "code",
   "execution_count": 27,
   "metadata": {},
   "outputs": [
    {
     "name": "stdout",
     "output_type": "stream",
     "text": [
      "             ADA-USD\n",
      "Date                \n",
      "2020-01-01  0.033458\n",
      "2020-01-02  0.032751\n",
      "2020-01-03  0.034180\n",
      "2020-01-04  0.034595\n",
      "2020-01-05  0.034721\n",
      "            DOGE-USD\n",
      "Date                \n",
      "2020-01-01  0.002033\n",
      "2020-01-02  0.002009\n",
      "2020-01-03  0.002145\n",
      "2020-01-04  0.002241\n",
      "2020-01-05  0.002419\n",
      "             ADA-USD  DOGE-USD\n",
      "Date                          \n",
      "2020-01-01  0.033458  0.002033\n",
      "2020-01-02  0.032751  0.002009\n",
      "2020-01-03  0.034180  0.002145\n",
      "2020-01-04  0.034595  0.002241\n",
      "2020-01-05  0.034721  0.002419\n"
     ]
    }
   ],
   "source": [
    "# test if ADA and DOGE can pass the cointegration test to be used with a pair trading strategy\n",
    "# call the function and generate a table with stock adjusted close prices\n",
    "# call the function and generate a table with stock adjusted close prices\n",
    "stocks4 = [\"ADA-USD\",\"DOGE-USD\"]\n",
    "portfolio4=combine_stocks(stocks4,start,end)"
   ]
  },
  {
   "cell_type": "markdown",
   "metadata": {},
   "source": [
    "test if it's cointegrated"
   ]
  },
  {
   "cell_type": "code",
   "execution_count": 28,
   "metadata": {},
   "outputs": [
    {
     "data": {
      "text/plain": [
       "(-3.497088736683023,\n",
       " 0.032654339454708615,\n",
       " array([-3.91146418, -3.34448986, -3.05024907]))"
      ]
     },
     "execution_count": 28,
     "metadata": {},
     "output_type": "execute_result"
    }
   ],
   "source": [
    "result = ts.coint(portfolio4['ADA-USD'],portfolio4['DOGE-USD'])\n",
    "result"
   ]
  },
  {
   "cell_type": "code",
   "execution_count": 29,
   "metadata": {},
   "outputs": [],
   "source": [
    "portfolio4['price ratio']=portfolio4['ADA-USD']/portfolio4['DOGE-USD']\n",
    "portfolio4['log price ratio']=np.log(portfolio4['ADA-USD'])/np.log(portfolio4['DOGE-USD'])"
   ]
  },
  {
   "cell_type": "code",
   "execution_count": 30,
   "metadata": {},
   "outputs": [
    {
     "name": "stdout",
     "output_type": "stream",
     "text": [
      "Critical Value =  -3.0516824319814626\n",
      "{'1%': -3.4393273074073045, '5%': -2.8655019247555154, '10%': -2.568879771109793}\n"
     ]
    },
    {
     "data": {
      "image/png": "[encoded data removed]",
      "text/plain": [
       "<Figure size 864x432 with 1 Axes>"
      ]
     },
     "metadata": {
      "needs_background": "light"
     },
     "output_type": "display_data"
    }
   ],
   "source": [
    "# run OLS regression\n",
    "model=sm.OLS(portfolio4['ADA-USD'], portfolio4['DOGE-USD']).fit()\n",
    "\n",
    "# calculate spread\n",
    "spread = portfolio4['ADA-USD'] - model.params[0] * portfolio4['DOGE-USD']\n",
    "\n",
    "# Plot the spread\n",
    "ax = spread.plot(figsize=(12, 6), title = \"Pair's Spread\")\n",
    "ax.set_ylabel(\"Spread\")\n",
    "ax.grid(True);\n",
    "\n",
    "# conduct Augmented Dickey-Fuller test\n",
    "adf = adfuller(spread, maxlag = 1)\n",
    "print('Critical Value = ', adf[0])\n",
    "\n",
    "# probablity critical values\n",
    "print(adf[4])\n",
    "\n",
    "portfolio4['spread']=spread"
   ]
  },
  {
   "cell_type": "code",
   "execution_count": 31,
   "metadata": {},
   "outputs": [],
   "source": [
    "# adf test\n",
    "from statsmodels.tsa.stattools import adfuller\n",
    "# adf test for all stock price\n",
    "stationp=pd.DataFrame(columns=portfolio4.columns)\n",
    "for column in portfolio4.columns:\n",
    "    dftest = adfuller(portfolio4[column],autolag='AIC')\n",
    "    dfoutput=pd.Series(dftest[0:4],index=['Test Statistic','p-value','#lags used','number of observations used'])\n",
    "    for key,value in dftest[4].items():\n",
    "        dfoutput['critical value (%s)'%key]= value\n",
    "    result=pd.DataFrame(dfoutput)\n",
    "    if result.iloc[1,0]<0.05:\n",
    "        stationp[column]=['stationary']\n",
    "    else:\n",
    "        stationp[column]=['not stationary']"
   ]
  },
  {
   "cell_type": "code",
   "execution_count": 32,
   "metadata": {},
   "outputs": [
    {
     "data": {
      "text/html": [
       "<div>\n",
       "<style scoped>\n",
       "    .dataframe tbody tr th:only-of-type {\n",
       "        vertical-align: middle;\n",
       "    }\n",
       "\n",
       "    .dataframe tbody tr th {\n",
       "        vertical-align: top;\n",
       "    }\n",
       "\n",
       "    .dataframe thead th {\n",
       "        text-align: right;\n",
       "    }\n",
       "</style>\n",
       "<table border=\"1\" class=\"dataframe\">\n",
       "  <thead>\n",
       "    <tr style=\"text-align: right;\">\n",
       "      <th></th>\n",
       "      <th>ADA-USD</th>\n",
       "      <th>DOGE-USD</th>\n",
       "      <th>price ratio</th>\n",
       "      <th>log price ratio</th>\n",
       "      <th>spread</th>\n",
       "    </tr>\n",
       "  </thead>\n",
       "  <tbody>\n",
       "    <tr>\n",
       "      <th>0</th>\n",
       "      <td>not stationary</td>\n",
       "      <td>not stationary</td>\n",
       "      <td>not stationary</td>\n",
       "      <td>not stationary</td>\n",
       "      <td>stationary</td>\n",
       "    </tr>\n",
       "  </tbody>\n",
       "</table>\n",
       "</div>"
      ],
      "text/plain": [
       "          ADA-USD        DOGE-USD     price ratio log price ratio      spread\n",
       "0  not stationary  not stationary  not stationary  not stationary  stationary"
      ]
     },
     "execution_count": 32,
     "metadata": {},
     "output_type": "execute_result"
    }
   ],
   "source": [
    "stationp"
   ]
  },
  {
   "cell_type": "raw",
   "metadata": {},
   "source": [
    "This pair passes the cointegration test with its price spread stationary, applicable for a pair trading strategy later."
   ]
  },
  {
   "cell_type": "markdown",
   "metadata": {},
   "source": [
    "# 2021-2022"
   ]
  },
  {
   "cell_type": "code",
   "execution_count": 33,
   "metadata": {},
   "outputs": [],
   "source": [
    "start = datetime.datetime(2021,6,1)\n",
    "end = datetime.datetime(2022,1,1)"
   ]
  },
  {
   "cell_type": "code",
   "execution_count": 34,
   "metadata": {},
   "outputs": [
    {
     "name": "stdout",
     "output_type": "stream",
     "text": [
      "               BNB-USD\n",
      "Date                  \n",
      "2021-06-01  362.794647\n",
      "2021-06-02  401.262329\n",
      "2021-06-03  427.807922\n",
      "2021-06-04  391.395325\n",
      "2021-06-05  390.431854\n",
      "             ADA-USD\n",
      "Date                \n",
      "2021-06-01  1.734753\n",
      "2021-06-02  1.752824\n",
      "2021-06-03  1.840471\n",
      "2021-06-04  1.710908\n",
      "2021-06-05  1.659009\n",
      "                ETH-USD\n",
      "Date                   \n",
      "2021-06-01  2633.518311\n",
      "2021-06-02  2706.125000\n",
      "2021-06-03  2855.126465\n",
      "2021-06-04  2688.195068\n",
      "2021-06-05  2630.576904\n",
      "               LTC-USD\n",
      "Date                  \n",
      "2021-06-01  182.980698\n",
      "2021-06-02  187.263977\n",
      "2021-06-03  193.086182\n",
      "2021-06-04  178.872009\n",
      "2021-06-05  173.028717\n",
      "               BCH-USD\n",
      "Date                  \n",
      "2021-06-01  691.403870\n",
      "2021-06-02  697.912964\n",
      "2021-06-03  718.448181\n",
      "2021-06-04  671.139160\n",
      "2021-06-05  649.438354\n",
      "            DOGE-USD\n",
      "Date                \n",
      "2021-06-01  0.370077\n",
      "2021-06-02  0.423374\n",
      "2021-06-03  0.399963\n",
      "2021-06-04  0.376323\n",
      "2021-06-05  0.372177\n",
      "            USDT-USD\n",
      "Date                \n",
      "2021-06-01  1.000109\n",
      "2021-06-02  1.000550\n",
      "2021-06-03  1.000571\n",
      "2021-06-04  1.001038\n",
      "2021-06-05  1.000313\n",
      "            MATIC-USD\n",
      "Date                 \n",
      "2021-06-01   1.821164\n",
      "2021-06-02   1.795897\n",
      "2021-06-03   1.823846\n",
      "2021-06-04   1.631484\n",
      "2021-06-05   1.527334\n",
      "               XMR-USD\n",
      "Date                  \n",
      "2021-06-01  265.774841\n",
      "2021-06-02  294.092072\n",
      "2021-06-03  308.188782\n",
      "2021-06-04  287.463715\n",
      "2021-06-05  264.308289\n",
      "               BNB-USD   ADA-USD      ETH-USD     LTC-USD     BCH-USD  \\\n",
      "Date                                                                    \n",
      "2021-06-01  362.794647  1.734753  2633.518311  182.980698  691.403870   \n",
      "2021-06-02  401.262329  1.752824  2706.125000  187.263977  697.912964   \n",
      "2021-06-03  427.807922  1.840471  2855.126465  193.086182  718.448181   \n",
      "2021-06-04  391.395325  1.710908  2688.195068  178.872009  671.139160   \n",
      "2021-06-05  390.431854  1.659009  2630.576904  173.028717  649.438354   \n",
      "\n",
      "            DOGE-USD  USDT-USD  MATIC-USD     XMR-USD  \n",
      "Date                                                   \n",
      "2021-06-01  0.370077  1.000109   1.821164  265.774841  \n",
      "2021-06-02  0.423374  1.000550   1.795897  294.092072  \n",
      "2021-06-03  0.399963  1.000571   1.823846  308.188782  \n",
      "2021-06-04  0.376323  1.001038   1.631484  287.463715  \n",
      "2021-06-05  0.372177  1.000313   1.527334  264.308289  \n"
     ]
    }
   ],
   "source": [
    "# pull data across 10 selected altcoins from yahoo finance through this time frame\n",
    "stocks = [\"BNB-USD\", \"ADA-USD\",\"ETH-USD\",\"LTC-USD\",\"BCH-USD\",\"DOGE-USD\",\"USDT-USD\",\"MATIC-USD\",\"XMR-USD\"]\n",
    "portfolio=combine_stocks(stocks,start,end)"
   ]
  },
  {
   "cell_type": "code",
   "execution_count": 35,
   "metadata": {},
   "outputs": [
    {
     "data": {
      "text/html": [
       "<div>\n",
       "<style scoped>\n",
       "    .dataframe tbody tr th:only-of-type {\n",
       "        vertical-align: middle;\n",
       "    }\n",
       "\n",
       "    .dataframe tbody tr th {\n",
       "        vertical-align: top;\n",
       "    }\n",
       "\n",
       "    .dataframe thead th {\n",
       "        text-align: right;\n",
       "    }\n",
       "</style>\n",
       "<table border=\"1\" class=\"dataframe\">\n",
       "  <thead>\n",
       "    <tr style=\"text-align: right;\">\n",
       "      <th></th>\n",
       "      <th>0</th>\n",
       "      <th>1</th>\n",
       "    </tr>\n",
       "  </thead>\n",
       "  <tbody>\n",
       "    <tr>\n",
       "      <th>0</th>\n",
       "      <td>BCH-USD</td>\n",
       "      <td>XMR-USD</td>\n",
       "    </tr>\n",
       "    <tr>\n",
       "      <th>1</th>\n",
       "      <td>USDT-USD</td>\n",
       "      <td>MATIC-USD</td>\n",
       "    </tr>\n",
       "    <tr>\n",
       "      <th>2</th>\n",
       "      <td>USDT-USD</td>\n",
       "      <td>XMR-USD</td>\n",
       "    </tr>\n",
       "  </tbody>\n",
       "</table>\n",
       "</div>"
      ],
      "text/plain": [
       "          0          1\n",
       "0   BCH-USD    XMR-USD\n",
       "1  USDT-USD  MATIC-USD\n",
       "2  USDT-USD    XMR-USD"
      ]
     },
     "execution_count": 35,
     "metadata": {},
     "output_type": "execute_result"
    }
   ],
   "source": [
    "# find potential cointegrated pairs through this time frame\n",
    "y=pd.DataFrame(find_cointegrated_pairs(portfolio)[2])\n",
    "y"
   ]
  },
  {
   "cell_type": "markdown",
   "metadata": {},
   "source": [
    "# BCH&XMR"
   ]
  },
  {
   "cell_type": "code",
   "execution_count": 36,
   "metadata": {},
   "outputs": [
    {
     "name": "stdout",
     "output_type": "stream",
     "text": [
      "               BCH-USD\n",
      "Date                  \n",
      "2021-06-01  691.403870\n",
      "2021-06-02  697.912964\n",
      "2021-06-03  718.448181\n",
      "2021-06-04  671.139160\n",
      "2021-06-05  649.438354\n",
      "               XMR-USD\n",
      "Date                  \n",
      "2021-06-01  265.774841\n",
      "2021-06-02  294.092072\n",
      "2021-06-03  308.188782\n",
      "2021-06-04  287.463715\n",
      "2021-06-05  264.308289\n",
      "               BCH-USD     XMR-USD\n",
      "Date                              \n",
      "2021-06-01  691.403870  265.774841\n",
      "2021-06-02  697.912964  294.092072\n",
      "2021-06-03  718.448181  308.188782\n",
      "2021-06-04  671.139160  287.463715\n",
      "2021-06-05  649.438354  264.308289\n"
     ]
    }
   ],
   "source": [
    "# test if BCH and XMR can pass the cointegration test to be used with a pair trading strategy\n",
    "# call the function and generate a table with stock adjusted close prices\n",
    "# call the function and generate a table with stock adjusted close prices\n",
    "stocks5 = [\"BCH-USD\",\"XMR-USD\"]\n",
    "portfolio5=combine_stocks(stocks5,start,end)"
   ]
  },
  {
   "cell_type": "code",
   "execution_count": 37,
   "metadata": {},
   "outputs": [
    {
     "data": {
      "text/plain": [
       "(-4.012055652282486,\n",
       " 0.006902110133543827,\n",
       " array([-3.94810437, -3.36469667, -3.06423535]))"
      ]
     },
     "execution_count": 37,
     "metadata": {},
     "output_type": "execute_result"
    }
   ],
   "source": [
    "result = ts.coint(portfolio5['BCH-USD'],portfolio5['XMR-USD'])\n",
    "result"
   ]
  },
  {
   "cell_type": "code",
   "execution_count": 38,
   "metadata": {},
   "outputs": [
    {
     "name": "stdout",
     "output_type": "stream",
     "text": [
      "correlation= 0.9020319539285295\n",
      "cointegration= (-4.012055652282486, 0.006902110133543827, array([-3.94810437, -3.36469667, -3.06423535]))\n"
     ]
    },
    {
     "data": {
      "text/plain": [
       "<matplotlib.axes._subplots.AxesSubplot at 0x7fbe0c615750>"
      ]
     },
     "execution_count": 38,
     "metadata": {},
     "output_type": "execute_result"
    },
    {
     "data": {
      "image/png": "[encoded data removed]",
      "text/plain": [
       "<Figure size 432x288 with 1 Axes>"
      ]
     },
     "metadata": {
      "needs_background": "light"
     },
     "output_type": "display_data"
    }
   ],
   "source": [
    "print('correlation=',portfolio5['BCH-USD'].corr(portfolio5['XMR-USD']))\n",
    "print('cointegration=',ts.coint(portfolio5['BCH-USD'],portfolio5['XMR-USD']))\n",
    "portfolio5[['BCH-USD','XMR-USD']].copy().plot()"
   ]
  },
  {
   "cell_type": "code",
   "execution_count": 39,
   "metadata": {},
   "outputs": [],
   "source": [
    "portfolio5['price ratio']=portfolio5['BCH-USD']/portfolio5['XMR-USD']\n",
    "portfolio5['log price ratio']=np.log(portfolio5['BCH-USD'])/np.log(portfolio5['XMR-USD'])"
   ]
  },
  {
   "cell_type": "code",
   "execution_count": 40,
   "metadata": {},
   "outputs": [
    {
     "name": "stdout",
     "output_type": "stream",
     "text": [
      "Critical Value =  -3.410490692021465\n",
      "{'1%': -3.461136478222043, '5%': -2.875078880098608, '10%': -2.5739861168199027}\n"
     ]
    },
    {
     "data": {
      "image/png": "[encoded data removed]",
      "text/plain": [
       "<Figure size 864x432 with 1 Axes>"
      ]
     },
     "metadata": {
      "needs_background": "light"
     },
     "output_type": "display_data"
    }
   ],
   "source": [
    "# run OLS regression\n",
    "model=sm.OLS(portfolio5['BCH-USD'], portfolio5['XMR-USD']).fit()\n",
    "\n",
    "# calculate spread\n",
    "spread = portfolio5['BCH-USD'] - model.params[0] * portfolio5['XMR-USD']\n",
    "\n",
    "# Plot the spread\n",
    "ax = spread.plot(figsize=(12, 6), title = \"Pair's Spread\")\n",
    "ax.set_ylabel(\"Spread\")\n",
    "ax.grid(True);\n",
    "\n",
    "# conduct Augmented Dickey-Fuller test\n",
    "adf = adfuller(spread, maxlag = 1)\n",
    "print('Critical Value = ', adf[0])\n",
    "\n",
    "# probablity critical values\n",
    "print(adf[4])\n",
    "\n",
    "portfolio5['spread']=spread"
   ]
  },
  {
   "cell_type": "code",
   "execution_count": 41,
   "metadata": {},
   "outputs": [],
   "source": [
    "# adf test\n",
    "from statsmodels.tsa.stattools import adfuller\n",
    "# adf test for all stock price\n",
    "stationp=pd.DataFrame(columns=portfolio5.columns)\n",
    "for column in portfolio5.columns:\n",
    "    dftest = adfuller(portfolio5[column],autolag='AIC')\n",
    "    dfoutput=pd.Series(dftest[0:4],index=['Test Statistic','p-value','#lags used','number of observations used'])\n",
    "    for key,value in dftest[4].items():\n",
    "        dfoutput['critical value (%s)'%key]= value\n",
    "    result=pd.DataFrame(dfoutput)\n",
    "    if result.iloc[1,0]<0.05:\n",
    "        stationp[column]=['stationary']\n",
    "    else:\n",
    "        stationp[column]=['not stationary']"
   ]
  },
  {
   "cell_type": "code",
   "execution_count": 42,
   "metadata": {},
   "outputs": [
    {
     "data": {
      "text/html": [
       "<div>\n",
       "<style scoped>\n",
       "    .dataframe tbody tr th:only-of-type {\n",
       "        vertical-align: middle;\n",
       "    }\n",
       "\n",
       "    .dataframe tbody tr th {\n",
       "        vertical-align: top;\n",
       "    }\n",
       "\n",
       "    .dataframe thead th {\n",
       "        text-align: right;\n",
       "    }\n",
       "</style>\n",
       "<table border=\"1\" class=\"dataframe\">\n",
       "  <thead>\n",
       "    <tr style=\"text-align: right;\">\n",
       "      <th></th>\n",
       "      <th>BCH-USD</th>\n",
       "      <th>XMR-USD</th>\n",
       "      <th>price ratio</th>\n",
       "      <th>log price ratio</th>\n",
       "      <th>spread</th>\n",
       "    </tr>\n",
       "  </thead>\n",
       "  <tbody>\n",
       "    <tr>\n",
       "      <th>0</th>\n",
       "      <td>not stationary</td>\n",
       "      <td>not stationary</td>\n",
       "      <td>stationary</td>\n",
       "      <td>stationary</td>\n",
       "      <td>stationary</td>\n",
       "    </tr>\n",
       "  </tbody>\n",
       "</table>\n",
       "</div>"
      ],
      "text/plain": [
       "          BCH-USD         XMR-USD price ratio log price ratio      spread\n",
       "0  not stationary  not stationary  stationary      stationary  stationary"
      ]
     },
     "execution_count": 42,
     "metadata": {},
     "output_type": "execute_result"
    }
   ],
   "source": [
    "stationp"
   ]
  },
  {
   "cell_type": "raw",
   "metadata": {},
   "source": [
    "This pair passes the cointegration test with its price ratio, log price ratio, price spread stationary, applicable for a pair trading strategy later."
   ]
  },
  {
   "cell_type": "code",
   "execution_count": 43,
   "metadata": {},
   "outputs": [
    {
     "data": {
      "text/plain": [
       "<matplotlib.axes._subplots.AxesSubplot at 0x7fbe0e4ed6d0>"
      ]
     },
     "execution_count": 43,
     "metadata": {},
     "output_type": "execute_result"
    },
    {
     "data": {
      "image/png": "[encoded data removed]",
      "text/plain": [
       "<Figure size 432x288 with 1 Axes>"
      ]
     },
     "metadata": {
      "needs_background": "light"
     },
     "output_type": "display_data"
    }
   ],
   "source": [
    "# plot for stock price\n",
    "portfolio5['log price ratio'].plot()"
   ]
  },
  {
   "cell_type": "code",
   "execution_count": null,
   "metadata": {},
   "outputs": [],
   "source": []
  }
 ],
 "metadata": {
  "kernelspec": {
   "display_name": "Python 3",
   "language": "python",
   "name": "python3"
  },
  "language_info": {
   "codemirror_mode": {
    "name": "ipython",
    "version": 3
   },
   "file_extension": ".py",
   "mimetype": "text/x-python",
   "name": "python",
   "nbconvert_exporter": "python",
   "pygments_lexer": "ipython3",
   "version": "3.7.6"
  }
 },
 "nbformat": 4,
 "nbformat_minor": 4
}
